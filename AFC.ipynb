{
 "cells": [
  {
   "cell_type": "markdown",
   "metadata": {},
   "source": [
    "## case study for Correspondence Factorial Analysis"
   ]
  },
  {
   "cell_type": "markdown",
   "metadata": {},
   "source": [
    "Pandas: is a python library that allows you to easily manipulate data to be analyzed.\n",
    "\n",
    "numpy: is a digital library supporting efficient support of large multidimensional arrays.\n",
    "\n",
    "matplotlib: is a Python library capable of producing quality graphs.\n",
    "\n",
    "Seaborn: is a library which in addition to Matplotlib,it replaces some default settings and functions,while adding new features.\n",
    "\n",
    "fanalysis: Allow factor analyzes to be carried out for descriptive purposes.\n",
    "\n",
    "scipy: is a digital library of algorithms and mathematical functions, based on tables."
   ]
  },
  {
   "cell_type": "code",
   "execution_count": 3,
   "metadata": {},
   "outputs": [],
   "source": [
    "import pandas\n",
    "import numpy\n",
    "import matplotlib.pyplot as plt\n",
    "import seaborn as sns\n",
    "#in case you don't have fanalysis use :\n",
    "#!pip install fanalysis\n",
    "from fanalysis.ca import CA\n",
    "import scipy"
   ]
  },
  {
   "cell_type": "markdown",
   "metadata": {},
   "source": [
    "we load our dataset from the excel file AFC"
   ]
  },
  {
   "cell_type": "code",
   "execution_count": 4,
   "metadata": {},
   "outputs": [
    {
     "name": "stdout",
     "output_type": "stream",
     "text": [
      "           Droit  Science  Medecine  Iut\n",
      "Exp.agri      80       99        65   58\n",
      "Patron       168      137       208   62\n",
      "Cadre.sup    470      400       876   79\n",
      "Employe      145      133       135   54\n",
      "Ouvrier      166      193       127  129\n"
     ]
    }
   ],
   "source": [
    "D = pandas.read_excel(\"AFC.xlsx\",sheet_name=\"AFC\",index_col=0)\n",
    "print(D);"
   ]
  },
  {
   "cell_type": "markdown",
   "metadata": {},
   "source": [
    "calculate row totals and column totals."
   ]
  },
  {
   "cell_type": "code",
   "execution_count": 5,
   "metadata": {},
   "outputs": [
    {
     "name": "stdout",
     "output_type": "stream",
     "text": [
      "[ 302  575 1825  467  615]\n",
      "[1029  962 1411  382]\n"
     ]
    }
   ],
   "source": [
    "#calcul des totaux en ligne\n",
    "tot_lig = numpy.sum(D.values,axis=1)\n",
    "print(tot_lig)\n",
    "\n",
    "\n",
    "#calcul des totaux en colonne\n",
    "tot_col = numpy.sum(D.values,axis=0)\n",
    "print(tot_col)\n"
   ]
  },
  {
   "cell_type": "markdown",
   "metadata": {},
   "source": [
    "line proportions"
   ]
  },
  {
   "cell_type": "code",
   "execution_count": 6,
   "metadata": {},
   "outputs": [
    {
     "name": "stdout",
     "output_type": "stream",
     "text": [
      "[[0.26490066 0.32781457 0.21523179 0.19205298]\n",
      " [0.29217391 0.23826087 0.36173913 0.10782609]\n",
      " [0.25753425 0.21917808 0.48       0.04328767]\n",
      " [0.31049251 0.28479657 0.28907923 0.11563169]\n",
      " [0.2699187  0.31382114 0.20650407 0.2097561 ]]\n"
     ]
    }
   ],
   "source": [
    "prof_lig = numpy.apply_along_axis(arr=D.values,axis=1,func1d=lambda x:x/numpy.sum(x))\n",
    "print(prof_lig)"
   ]
  },
  {
   "cell_type": "markdown",
   "metadata": {},
   "source": [
    "graphical representation of the choice of sectors according to the CSP - Data \"CSP - Sectors."
   ]
  },
  {
   "cell_type": "code",
   "execution_count": 7,
   "metadata": {},
   "outputs": [
    {
     "data": {
      "image/png": "[encoded data removed]",
      "text/plain": [
       "<Figure size 432x288 with 1 Axes>"
      ]
     },
     "metadata": {
      "needs_background": "light"
     },
     "output_type": "display_data"
    }
   ],
   "source": [
    "somme = numpy.zeros(shape=(prof_lig.shape[0]))\n",
    "for i in range(prof_lig.shape[1]):\n",
    " plt.barh(range(prof_lig.shape[0]),prof_lig[:,i],left=somme)\n",
    " somme = somme + prof_lig[:,i]\n",
    "\n",
    "plt.yticks(range(prof_lig.shape[0]),D.index)\n",
    "plt.show()\n"
   ]
  },
  {
   "cell_type": "markdown",
   "metadata": {},
   "source": [
    "We observe a clear preference of the children of “Cadres.Sup” for “Medicine”. Compared to others\n",
    "\n",
    "categories, \"workers\" and \"farmers\" are more involved in IUT. Etc. \n",
    "The role of AFC  will highlight the differences between the profiles and identify any contacts between the CSPs and the choice of courses."
   ]
  },
  {
   "cell_type": "markdown",
   "metadata": {},
   "source": [
    "calculate the  marginal profiles."
   ]
  },
  {
   "cell_type": "code",
   "execution_count": 8,
   "metadata": {},
   "outputs": [
    {
     "name": "stdout",
     "output_type": "stream",
     "text": [
      "[0.27193446 0.25422833 0.37288584 0.10095137]\n"
     ]
    }
   ],
   "source": [
    "prof_marg_lig = tot_col/numpy.sum(tot_col)\n",
    "print(prof_marg_lig)"
   ]
  },
  {
   "cell_type": "markdown",
   "metadata": {},
   "source": [
    "let us calculate the distance of the KHI-2 between cadre (2) and ouvrier (4)."
   ]
  },
  {
   "cell_type": "code",
   "execution_count": 9,
   "metadata": {},
   "outputs": [
    {
     "name": "stdout",
     "output_type": "stream",
     "text": [
      "0.510900786777672\n"
     ]
    }
   ],
   "source": [
    "print(numpy.sum((prof_lig[2,:]-prof_lig[4,:])**2/prof_marg_lig))"
   ]
  },
  {
   "cell_type": "markdown",
   "metadata": {},
   "source": [
    "calculate the distance of KHI-2 between cadre (2) and patron (1)."
   ]
  },
  {
   "cell_type": "code",
   "execution_count": 10,
   "metadata": {},
   "outputs": [
    {
     "name": "stdout",
     "output_type": "stream",
     "text": [
      "0.08461088232967051\n"
     ]
    }
   ],
   "source": [
    "print(numpy.sum((prof_lig[2,:]-prof_lig[1,:])**2/prof_marg_lig))"
   ]
  },
  {
   "cell_type": "markdown",
   "metadata": {},
   "source": [
    "calculate the distance between pairs of row modalities."
   ]
  },
  {
   "cell_type": "code",
   "execution_count": 33,
   "metadata": {},
   "outputs": [
    {
     "name": "stdout",
     "output_type": "stream",
     "text": [
      "           Exp.agri    Patron  Cadre.sup   Employe   Ouvrier\n",
      "Exp.agri   0.000000  0.162117   0.453847  0.087400  0.004172\n",
      "Patron     0.162117  0.000000   0.084611  0.024514  0.191823\n",
      "Cadre.sup  0.453847  0.084611   0.000000  0.176847  0.510901\n",
      "Employe    0.087400  0.024514   0.176847  0.000000  0.115413\n",
      "Ouvrier    0.000000  0.000000   0.000000  0.000000  0.000000\n"
     ]
    }
   ],
   "source": [
    "distPairesLig = numpy.zeros(shape=(prof_lig.shape[0],prof_lig.shape[0]))\n",
    "for i in range(prof_lig.shape[0]-1):\n",
    "    for j in range(0,prof_lig.shape[0]):\n",
    "         distPairesLig[i,j] = numpy.sum((prof_lig[i,:]-prof_lig[j,:])**2/prof_marg_lig)\n",
    "\n",
    "print(pandas.DataFrame(distPairesLig,index=D.index,columns=D.index))"
   ]
  },
  {
   "cell_type": "markdown",
   "metadata": {},
   "source": [
    "display as a heatmap.\n",
    "A graphic representation in the form of a \"heatmap\" gives an overall view of the differences."
   ]
  },
  {
   "cell_type": "code",
   "execution_count": 12,
   "metadata": {},
   "outputs": [
    {
     "data": {
      "text/plain": [
       "<AxesSubplot:>"
      ]
     },
     "execution_count": 12,
     "metadata": {},
     "output_type": "execute_result"
    },
    {
     "data": {
      "image/png": "[encoded data removed]",
      "text/plain": [
       "<Figure size 432x288 with 2 Axes>"
      ]
     },
     "metadata": {
      "needs_background": "light"
     },
     "output_type": "display_data"
    }
   ],
   "source": [
    "sns.heatmap(distPairesLig,vmin=0,vmax=numpy.max(distPairesLig),linewidth=0.1,cmap='Blues',xticklabels=D.index,\n",
    "yticklabels=D.index)\n"
   ]
  },
  {
   "cell_type": "markdown",
   "metadata": {},
   "source": [
    "The children of \"ouvriers \"  and \"exploitants agricoles\" present fairly similar structures of choice. It is the same ,to a lesser degree, between \"patrons\" and \"employés\". In the end, it's only the \"cadres supérieurs\" who win with preferences that set them apart from others, especially \"ouvriers \"  and \"exploitants agricoles\"."
   ]
  },
  {
   "cell_type": "markdown",
   "metadata": {},
   "source": [
    "Distance to the origin."
   ]
  },
  {
   "cell_type": "code",
   "execution_count": 34,
   "metadata": {},
   "outputs": [
    {
     "name": "stdout",
     "output_type": "stream",
     "text": [
      "                  0\n",
      "Exp.agri   0.170350\n",
      "Patron     0.003311\n",
      "Cadre.sup  0.069302\n",
      "Employe    0.030113\n",
      "Ouvrier    0.205492\n"
     ]
    }
   ],
   "source": [
    "distoLig = numpy.apply_along_axis(arr=prof_lig,axis=1,func1d=lambda x:numpy.sum((x-prof_marg_lig)**2/prof_marg_lig))\n",
    "print(pandas.DataFrame(distoLig,index=D.index))"
   ]
  },
  {
   "cell_type": "markdown",
   "metadata": {},
   "source": [
    "Let us calculate the weight and the inertia of the lines."
   ]
  },
  {
   "cell_type": "code",
   "execution_count": 35,
   "metadata": {},
   "outputs": [
    {
     "name": "stdout",
     "output_type": "stream",
     "text": [
      "             Disto2     Poids   Inertie\n",
      "Exp.agri   0.170350  0.079810  0.013596\n",
      "Patron     0.003311  0.151956  0.000503\n",
      "Cadre.sup  0.069302  0.482294  0.033424\n",
      "Employe    0.030113  0.123414  0.003716\n",
      "Ouvrier    0.205492  0.162526  0.033398\n"
     ]
    }
   ],
   "source": [
    "poidsLig = tot_lig/numpy.sum(tot_lig)\n",
    "\n",
    "inertieLig = distoLig * poidsLig\n",
    "\n",
    "print(pandas.DataFrame(numpy.transpose([distoLig,poidsLig,inertieLig]),columns=['Disto2','Poids','Inertie'] ,index=D.index))\n"
   ]
  },
  {
   "cell_type": "markdown",
   "metadata": {},
   "source": [
    "We note, for example, that the children of \"exploitants agricoles\" certainly have a different profile (distance from the origin), but are poorly represented (weight), their inertia does not really stand out. On the contrary, the \"frames.sup\" are not so different, but numerous, they will weigh much more in the analysis."
   ]
  },
  {
   "cell_type": "markdown",
   "metadata": {},
   "source": [
    "total inertie"
   ]
  },
  {
   "cell_type": "code",
   "execution_count": 38,
   "metadata": {},
   "outputs": [
    {
     "name": "stdout",
     "output_type": "stream",
     "text": [
      "0.08463685828547157\n"
     ]
    }
   ],
   "source": [
    "tot_InertieLig = numpy.sum(inertieLig)\n",
    "print(tot_InertieLig)"
   ]
  },
  {
   "cell_type": "markdown",
   "metadata": {},
   "source": [
    "we carry a Correspondence Factorial Analysis with the fanalysis package"
   ]
  },
  {
   "cell_type": "markdown",
   "metadata": {},
   "source": [
    "displaying the eigenvalues.\n",
    "\n",
    "displaying the fraction of inertia returned by factor.\n",
    "\n",
    "displaying the cumulative returned inertia fraction."
   ]
  },
  {
   "cell_type": "code",
   "execution_count": 39,
   "metadata": {},
   "outputs": [
    {
     "name": "stdout",
     "output_type": "stream",
     "text": [
      "[[8.23936026e-02 1.70344867e-03 5.39807038e-04]\n",
      " [9.73495522e+01 2.01265584e+00 6.37791913e-01]\n",
      " [9.73495522e+01 9.93622081e+01 1.00000000e+02]]\n",
      "                  0         1         2\n",
      "Exp.agri   0.410115 -0.026253  0.038284\n",
      "Patron     0.020151  0.026585 -0.046881\n",
      "Cadre.sup -0.262717 -0.015596  0.006199\n",
      "Employe    0.142090  0.097326  0.021242\n",
      "Ouvrier    0.451481 -0.039588 -0.009493\n"
     ]
    }
   ],
   "source": [
    "afc = CA(row_labels=D.index,col_labels=D.columns)\n",
    "afc.fit(D.values)\n",
    "#information restituée sur les facteurs\n",
    "print(afc.eig_)\n",
    "\n",
    "print(pandas.DataFrame(afc.row_coord_,index=D.index))\n",
    "\n"
   ]
  },
  {
   "cell_type": "markdown",
   "metadata": {},
   "source": [
    "We observe for each row of the matrix “eig_”: the eigenvalues of the “min (5-1, 4-1) = 3” factors, the fraction of inertia restored by factor is accumulated. The variance of the 1st factor is equal to (𝜆1 = 0.08239), it already represents : \n",
    "\n",
    "(0.08239 / 0.0846 = 97.35%) of the total inertia."
   ]
  },
  {
   "cell_type": "code",
   "execution_count": 17,
   "metadata": {},
   "outputs": [
    {
     "data": {
      "image/png": "[encoded data removed]",
      "text/plain": [
       "<Figure size 432x288 with 1 Axes>"
      ]
     },
     "metadata": {
      "needs_background": "light"
     },
     "output_type": "display_data"
    }
   ],
   "source": [
    "#affichage graphique des v.p.\n",
    "afc.plot_eigenvalues()"
   ]
  },
  {
   "cell_type": "markdown",
   "metadata": {},
   "source": [
    "We represent the individuals rows in the first factorial plane which restores 99.36% of the available information."
   ]
  },
  {
   "cell_type": "code",
   "execution_count": 40,
   "metadata": {},
   "outputs": [
    {
     "data": {
      "image/png": "[encoded data removed]",
      "text/plain": [
       "<Figure size 720x720 with 1 Axes>"
      ]
     },
     "metadata": {
      "needs_background": "light"
     },
     "output_type": "display_data"
    }
   ],
   "source": [
    "#affichage dans le premier plan factoriel\n",
    "fig, ax = plt.subplots(figsize=(10,10))\n",
    "ax.axis([-0.5,+0.5,-0.5,+0.5])\n",
    "ax.plot([-0.5,+0.5],[0,0],color='red',linestyle='--')\n",
    "ax.plot([0,0],[-0.5,+0.5],color='red',linestyle='--')\n",
    "ax.set_xlabel(\"Dim.1 (97.35% )\")\n",
    "ax.set_ylabel(\"Dim.2 (2.01%)\")\n",
    "plt.title(\"Carte des modalités lignes\")\n",
    "for i in range(D.shape[0]):\n",
    " ax.text(afc.row_coord_[i,0],afc.row_coord_[i,1],D.index[i])\n",
    "\n",
    "plt.show()"
   ]
  },
  {
   "cell_type": "markdown",
   "metadata": {},
   "source": [
    "By placing the same scale on the abscissa and ordinate, we see that the differentiation of the line modalities is played out almost exclusively on the first factorial axis"
   ]
  },
  {
   "cell_type": "markdown",
   "metadata": {},
   "source": [
    "Let us calculate the Euclidean distances in the 1st plane."
   ]
  },
  {
   "cell_type": "code",
   "execution_count": 42,
   "metadata": {},
   "outputs": [
    {
     "name": "stdout",
     "output_type": "stream",
     "text": [
      "           Exp.agri    Patron  Cadre.sup   Employe   Ouvrier\n",
      "Exp.agri   0.000000  0.152072   0.452704  0.071837  0.001711\n",
      "Patron     0.152072  0.000000   0.080014  0.014869  0.186046\n",
      "Cadre.sup  0.452704  0.080014   0.000000  0.163869  0.510079\n",
      "Employe    0.071837  0.014869   0.163869  0.000000  0.095723\n",
      "Ouvrier    0.000000  0.000000   0.000000  0.000000  0.000000\n"
     ]
    }
   ],
   "source": [
    "distPairesLigF1 = numpy.zeros(shape=(prof_lig.shape[0],prof_lig.shape[0]))\n",
    "#double boucle\n",
    "for i in range(prof_lig.shape[0]-1):\n",
    "    for j in range(0,prof_lig.shape[0]):\n",
    "        distPairesLigF1[i,j] = numpy.sum((afc.row_coord_[i,0]-afc.row_coord_[j,0])**2)\n",
    "\n",
    "#affichage\n",
    "print(pandas.DataFrame(distPairesLigF1,index=D.index,columns=D.index))"
   ]
  },
  {
   "cell_type": "markdown",
   "metadata": {},
   "source": [
    "# Column analysis"
   ]
  },
  {
   "cell_type": "markdown",
   "metadata": {},
   "source": [
    "In the same way as for row profiles, we can calculate the distances to the origin (represented by the column margin of the table in Figure 107), the weights (of the columns) and the inertias."
   ]
  },
  {
   "cell_type": "markdown",
   "metadata": {},
   "source": [
    "We first calculate the \"average\" profile of the sectors."
   ]
  },
  {
   "cell_type": "code",
   "execution_count": 43,
   "metadata": {},
   "outputs": [
    {
     "name": "stdout",
     "output_type": "stream",
     "text": [
      "[0.07980973 0.1519556  0.48229387 0.12341438 0.16252643]\n"
     ]
    }
   ],
   "source": [
    "#profil marginal des filières\n",
    "prof_marg_col = tot_lig/numpy.sum(tot_lig)\n",
    "print(prof_marg_col)"
   ]
  },
  {
   "cell_type": "markdown",
   "metadata": {},
   "source": [
    "Profiles by sector (column)."
   ]
  },
  {
   "cell_type": "code",
   "execution_count": 44,
   "metadata": {},
   "outputs": [
    {
     "name": "stdout",
     "output_type": "stream",
     "text": [
      "              Droit   Science  Medecine       Iut\n",
      "Exp.agri   0.077745  0.102911  0.046067  0.151832\n",
      "Patron     0.163265  0.142412  0.147413  0.162304\n",
      "Cadre.sup  0.456754  0.415800  0.620836  0.206806\n",
      "Employe    0.140914  0.138254  0.095677  0.141361\n",
      "Ouvrier    0.161322  0.200624  0.090007  0.337696\n"
     ]
    }
   ],
   "source": [
    "#tableau des profils colonnes\n",
    "prof_col = numpy.apply_along_axis(arr=D.values,axis=0,func1d=lambda x:x/numpy.sum(x))\n",
    "print(pandas.DataFrame(prof_col,index=D.index,columns=D.columns))"
   ]
  },
  {
   "cell_type": "markdown",
   "metadata": {},
   "source": [
    "For each sector, we form the distance to the origin"
   ]
  },
  {
   "cell_type": "code",
   "execution_count": 45,
   "metadata": {},
   "outputs": [
    {
     "name": "stdout",
     "output_type": "stream",
     "text": [
      "                 0\n",
      "Droit     0.004738\n",
      "Science   0.027168\n",
      "Medecine  0.092792\n",
      "Iut       0.414466\n"
     ]
    }
   ],
   "source": [
    "#distance**2 à l'orgine\n",
    "distoCol = numpy.apply_along_axis(arr=prof_col,axis=0,func1d=lambda x:numpy.sum((x\n",
    "-prof_marg_col)**2/prof_marg_col))\n",
    "\n",
    "#affichage\n",
    "print(pandas.DataFrame(distoCol,index=D.columns))"
   ]
  },
  {
   "cell_type": "markdown",
   "metadata": {},
   "source": [
    "The sociological composition of IUT students is clearly different from the rest of the world. By comparing his profile with the marginal profile, we note an over-representation of the children of farmers and workers, and an under-representation senior executives."
   ]
  },
  {
   "cell_type": "markdown",
   "metadata": {},
   "source": [
    "calculate the weight of the majors."
   ]
  },
  {
   "cell_type": "code",
   "execution_count": 46,
   "metadata": {},
   "outputs": [
    {
     "name": "stdout",
     "output_type": "stream",
     "text": [
      "                 0\n",
      "Droit     0.271934\n",
      "Science   0.254228\n",
      "Medecine  0.372886\n",
      "Iut       0.100951\n"
     ]
    }
   ],
   "source": [
    "#poids de chaque colonne\n",
    "poidsCol = tot_col/numpy.sum(tot_col)\n",
    "print(pandas.DataFrame(poidsCol,index=D.columns))"
   ]
  },
  {
   "cell_type": "markdown",
   "metadata": {},
   "source": [
    "calculate the inertias."
   ]
  },
  {
   "cell_type": "code",
   "execution_count": 24,
   "metadata": {},
   "outputs": [
    {
     "name": "stdout",
     "output_type": "stream",
     "text": [
      "                 0\n",
      "Droit     0.001288\n",
      "Science   0.006907\n",
      "Medecine  0.034601\n",
      "Iut       0.041841\n"
     ]
    }
   ],
   "source": [
    "#inertie\n",
    "inertieCol = distoCol*poidsCol\n",
    "print(pandas.DataFrame(inertieCol,index=D.columns))"
   ]
  },
  {
   "cell_type": "markdown",
   "metadata": {},
   "source": [
    "The IUT and Medicine sectors are those that will weigh the most in the analysis, but not for the same reasons: the first because its distance to the origin is high, the second because it gathers a large number of students (weight)."
   ]
  },
  {
   "cell_type": "code",
   "execution_count": 25,
   "metadata": {},
   "outputs": [
    {
     "name": "stdout",
     "output_type": "stream",
     "text": [
      "0.08463685828547156\n"
     ]
    }
   ],
   "source": [
    "#somme des inerties\n",
    "print(numpy.sum(inertieCol))"
   ]
  },
  {
   "cell_type": "markdown",
   "metadata": {},
   "source": [
    "The sum of the inertias of the column modalities identical to the sum of the inertias of the row modalities (CSP). It is not a coincidence.\n",
    "\n",
    "In AFC, rows and columns play symmetrical roles (duality)."
   ]
  },
  {
   "cell_type": "markdown",
   "metadata": {},
   "source": [
    "we display the coordinates of the column modalities (the channels) for the 3 factors of the AFC on the data."
   ]
  },
  {
   "cell_type": "code",
   "execution_count": 26,
   "metadata": {},
   "outputs": [
    {
     "name": "stdout",
     "output_type": "stream",
     "text": [
      "                 0         1         2\n",
      "Droit     0.027987  0.060669 -0.016545\n",
      "Science   0.160462  0.002734  0.037583\n",
      "Medecine -0.303125 -0.029662 -0.005200\n",
      "Iut       0.640174 -0.060749 -0.030870\n"
     ]
    }
   ],
   "source": [
    "#coordonnées des filières\n",
    "print(pandas.DataFrame(afc.col_coord_,index=D.columns))"
   ]
  },
  {
   "cell_type": "markdown",
   "metadata": {},
   "source": [
    "let's move on to the graphical representation in the plan."
   ]
  },
  {
   "cell_type": "code",
   "execution_count": 48,
   "metadata": {},
   "outputs": [
    {
     "data": {
      "image/png": "[encoded data removed]",
      "text/plain": [
       "<Figure size 720x720 with 1 Axes>"
      ]
     },
     "metadata": {
      "needs_background": "light"
     },
     "output_type": "display_data"
    }
   ],
   "source": [
    "\n",
    "#affichage dans le premier plan factoriel\n",
    "fig, ax = plt.subplots(figsize=(10,10))\n",
    "ax.axis([-0.7,+0.7,-0.7,+0.7])\n",
    "ax.plot([-0.7,+0.7],[0,0],color='blue',linestyle='--')\n",
    "ax.plot([0,0],[-0.7,+0.7],color='blue',linestyle='--')\n",
    "ax.set_xlabel(\"Dim.1 (97.35% )\")\n",
    "ax.set_ylabel(\"Dim.2 (2.01%)\")\n",
    "plt.title(\"Carte des modalités colonnes\")\n",
    "\n",
    "for i in range(D.shape[1]):\n",
    "    ax.text(afc.col_coord_[i,0],afc.col_coord_[i,1],D.columns[i])\n",
    "plt.show()"
   ]
  },
  {
   "cell_type": "markdown",
   "metadata": {},
   "source": [
    "Once again, the differentiations are mainly based on the 1st factor.\n",
    "The IUT visibly presents a separate profile, in contrast to that of \"Medicine\" in particular"
   ]
  },
  {
   "cell_type": "markdown",
   "metadata": {},
   "source": [
    "# Analysis of the row-column association"
   ]
  },
  {
   "cell_type": "markdown",
   "metadata": {},
   "source": [
    "we form the table of theoretical numbers:"
   ]
  },
  {
   "cell_type": "code",
   "execution_count": 49,
   "metadata": {},
   "outputs": [
    {
     "name": "stdout",
     "output_type": "stream",
     "text": [
      "[[ 82.12420719  76.7769556  112.6115222   30.48731501]\n",
      " [156.36231501 146.18128964 214.40935518  58.04704017]\n",
      " [496.28039112 463.9667019  680.51664905 184.23625793]\n",
      " [126.99339323 118.72463002 174.13768499  47.14429175]\n",
      " [167.23969345 156.35042283 229.32478858  62.08509514]]\n"
     ]
    }
   ],
   "source": [
    "#effectifs totaux\n",
    "n = numpy.sum(D.values)\n",
    "#tableau sous indépendance\n",
    "E = numpy.dot(numpy.reshape(tot_lig,(5,1)),numpy.reshape(tot_col,(1,4)))/n\n",
    "print(E)"
   ]
  },
  {
   "cell_type": "markdown",
   "metadata": {},
   "source": [
    "We can calculate the test statistic and the critical probability:"
   ]
  },
  {
   "cell_type": "code",
   "execution_count": 29,
   "metadata": {},
   "outputs": [
    {
     "name": "stdout",
     "output_type": "stream",
     "text": [
      "320.2658717522244\n"
     ]
    }
   ],
   "source": [
    "#statistique du KHI-2\n",
    "KHI2 = numpy.sum(((D.values-E)**2)/E)\n",
    "print(KHI2)\n"
   ]
  },
  {
   "cell_type": "code",
   "execution_count": 30,
   "metadata": {},
   "outputs": [
    {
     "name": "stdout",
     "output_type": "stream",
     "text": [
      "12\n"
     ]
    }
   ],
   "source": [
    "#degré de liberté\n",
    "ddl = (E.shape[0]-1)*(E.shape[1]-1)\n",
    "print(ddl)\n"
   ]
  },
  {
   "cell_type": "markdown",
   "metadata": {},
   "source": [
    "The p-value of the test."
   ]
  },
  {
   "cell_type": "code",
   "execution_count": 31,
   "metadata": {},
   "outputs": [
    {
     "name": "stdout",
     "output_type": "stream",
     "text": [
      "0.0\n"
     ]
    }
   ],
   "source": [
    "print(1-scipy.stats.chi2.cdf(KHI2,ddl))\n"
   ]
  },
  {
   "cell_type": "markdown",
   "metadata": {},
   "source": [
    "If the p-value is less than 0.05. This indicates strong evidence against the null hypothesis, as there is less than a 5% chance that the null value is correct (and the results are random). Therefore, we reject the null hypothesis.\n",
    "Otherwise we keep the null hypothesis.\n",
    "Therefore, the test leads to the rejection of the null hypothesis (p-value ≈ 0). Obviously, the parents' CSP variables and choice of pathways are strongly linked."
   ]
  },
  {
   "cell_type": "code",
   "execution_count": 50,
   "metadata": {},
   "outputs": [
    {
     "data": {
      "image/png": "[encoded data removed]",
      "text/plain": [
       "<Figure size 720x720 with 1 Axes>"
      ]
     },
     "metadata": {
      "needs_background": "light"
     },
     "output_type": "display_data"
    }
   ],
   "source": [
    "#représentation simultanée\n",
    "fig, ax = plt.subplots(figsize=(10,10))\n",
    "ax.axis([-0.7,+0.7,-0.7,+0.7])\n",
    "ax.plot([-0.7,+0.7],[0,0],color='silver',linestyle='--')\n",
    "ax.plot([0,0],[-0.7,+0.7],color='silver',linestyle='--')\n",
    "ax.set_xlabel(\"Dim.1 (97.35% )\")\n",
    "ax.set_ylabel(\"Dim.2 (2.01%)\")\n",
    "plt.title(\"Carte des modalités lignes et colonnes\")\n",
    "#modalités ligne\n",
    "for i in range(D.shape[0]):\n",
    " ax.text(afc.row_coord_[i,0],afc.row_coord_[i,1],D.index[i],color='blue')\n",
    "#modalités colonne\n",
    "for i in range(D.shape[1]):\n",
    " ax.text(afc.col_coord_[i,0],afc.col_coord_[i,1],D.columns[i],color='red')\n",
    "\n",
    "plt.show()"
   ]
  },
  {
   "cell_type": "code",
   "execution_count": null,
   "metadata": {},
   "outputs": [],
   "source": []
  }
 ],
 "metadata": {
  "kernelspec": {
   "display_name": "Python 3",
   "language": "python",
   "name": "python3"
  },
  "language_info": {
   "codemirror_mode": {
    "name": "ipython",
    "version": 3
   },
   "file_extension": ".py",
   "mimetype": "text/x-python",
   "name": "python",
   "nbconvert_exporter": "python",
   "pygments_lexer": "ipython3",
   "version": "3.8.8"
  }
 },
 "nbformat": 4,
 "nbformat_minor": 2
}
